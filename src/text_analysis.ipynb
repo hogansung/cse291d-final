{
 "cells": [
  {
   "cell_type": "code",
   "execution_count": 1,
   "metadata": {
    "collapsed": true
   },
   "outputs": [],
   "source": [
    "import json\n",
    "import numpy\n",
    "from sklearn.feature_extraction.text import CountVectorizer"
   ]
  },
  {
   "cell_type": "code",
   "execution_count": 2,
   "metadata": {
    "collapsed": false
   },
   "outputs": [
    {
     "name": "stdout",
     "output_type": "stream",
     "text": [
      "1548682\n",
      "1548682\n"
     ]
    }
   ],
   "source": [
    "f=open('../dat/text','r')\n",
    "text=json.load(f)\n",
    "f.close()\n",
    "\n",
    "f=open('../dat/stars','r')\n",
    "y=json.load(f)\n",
    "f.close()\n",
    "print len(text)\n",
    "print len(y)\n",
    "        "
   ]
  },
  {
   "cell_type": "code",
   "execution_count": 27,
   "metadata": {
    "collapsed": false
   },
   "outputs": [
    {
     "name": "stdout",
     "output_type": "stream",
     "text": [
      "[[0 0 0 ..., 0 0 0]\n",
      " [0 0 0 ..., 0 0 0]\n",
      " [0 0 0 ..., 0 0 0]\n",
      " ..., \n",
      " [0 1 0 ..., 1 0 0]\n",
      " [0 0 0 ..., 0 0 0]\n",
      " [0 0 0 ..., 0 1 1]]\n"
     ]
    }
   ],
   "source": [
    "vectorizer = CountVectorizer(min_df=0.05,max_df=0.95,analyzer = 'word',stop_words='english')\n",
    "feat = vectorizer.fit_transform(text[:100000]).toarray()\n",
    "print feat"
   ]
  },
  {
   "cell_type": "code",
   "execution_count": 32,
   "metadata": {
    "collapsed": false
   },
   "outputs": [
    {
     "name": "stdout",
     "output_type": "stream",
     "text": [
      "[u'10', u'actually', u'amazing', u'area', u'asked', u'atmosphere', u'away', u'awesome', u'bad', u'bar', u'beef', u'beer', u'best', u'better', u'big', u'bit', u'bread', u'breakfast', u'burger', u'busy', u'came', u'check', u'cheese', u'chicken', u'coffee', u'come', u'coming', u'cooked', u'day', u'decent', u'decided', u'definitely', u'delicious', u'did', u'didn', u'different', u'dinner', u'dish', u'dishes', u'don', u'drink', u'drinks', u'eat', u'eating', u'enjoyed', u'excellent', u'experience', u'fast', u'favorite', u'feel', u'fish', u'flavor', u'food', u'fresh', u'fried', u'friend', u'friendly', u'friends', u'fries', u'going', u'good', u'got', u'great', u'half', u'happy', u'home', u'hot', u'huge', u'inside', u'just', u'kind', u'know', u'large', u'like', u'little', u'll', u'location', u'long', u'looking', u'lot', u'love', u'lunch', u'make', u'maybe', u'meal', u'meat', u'menu', u'minutes', u'need', u'new', u'nice', u'night', u'ok', u'order', u'ordered', u'overall', u'people', u'perfect', u'pizza', u'place', u'places', u'pork', u'portions', u'pretty', u'price', u'prices', u'probably', u'quality', u'quite', u'really', u'recommend', u'restaurant', u'restaurants', u'rice', u'right', u'said', u'salad', u'sandwich', u'sauce', u'say', u'selection', u'served', u'server', u'service', u'small', u'soup', u'special', u'spicy', u'spot', u'staff', u'stars', u'super', u'sure', u'sushi', u'sweet', u'table', u'tables', u'taste', u'tasted', u'tasty', u'thing', u'things', u'think', u'thought', u'time', u'times', u'took', u'tried', u'try', u'usually', u've', u'visit', u'wait', u'want', u'wanted', u'wasn', u'way', u'went', u'worth']\n"
     ]
    }
   ],
   "source": [
    "\n",
    "words=vectorizer.get_feature_names()\n",
    "print words"
   ]
  },
  {
   "cell_type": "code",
   "execution_count": 30,
   "metadata": {
    "collapsed": false
   },
   "outputs": [
    {
     "name": "stdout",
     "output_type": "stream",
     "text": [
      "[  5.56980730e-02  -1.18079763e-01   7.26396126e-01   9.72564261e-02\n",
      "  -1.79620374e-01   3.55445848e-01   2.92109243e-02   7.62975694e-01\n",
      "  -1.14006455e-01   7.20699990e-02   7.17197991e-02   4.26122574e-02\n",
      "   6.98578185e-01   3.88951754e-02   3.20180452e-02   1.56629427e-02\n",
      "   3.71458532e-02   2.51276005e-01   6.17842534e-02   1.09134249e-01\n",
      "  -4.02463267e-02   3.99926400e-02   7.38542694e-04   1.33762899e-01\n",
      "   2.72310150e-01   1.55311349e-01   1.96436944e-01  -9.68807503e-02\n",
      "   1.08026371e-01   1.60999634e-01  -2.38265089e-01   2.61568352e-01\n",
      "   6.64378937e-01  -1.13502452e-01  -9.43904133e-02   2.10048571e-02\n",
      "   7.08226638e-02  -1.64285915e-01   8.16138355e-02   1.03181653e-02\n",
      "  -1.70404982e-02  -9.17753584e-03   1.36091301e-01   4.98152604e-02\n",
      "   3.87631119e-01   7.33889839e-01   1.38287103e-02   4.91274010e-01\n",
      "   4.82672346e-01  -4.87339013e-02   3.16853447e-02  -1.35414915e-01\n",
      "   1.82682719e-01   2.84008076e-01  -6.16220331e-02   2.07413729e-02\n",
      "   5.68723463e-01   6.07904753e-02   5.35395616e-02   2.71524003e-02\n",
      "   3.34188468e-01   5.34014932e-02   5.83948558e-01  -4.93553939e-02\n",
      "   2.18601586e-01   1.47560134e-01   9.06497840e-02   1.02713523e-01\n",
      "  -7.52736849e-03  -4.80041114e-02  -3.00851678e-02  -7.87117374e-02\n",
      "   6.91988543e-02  -1.78151896e-02   7.85216393e-02   1.58640016e-01\n",
      "   2.47231419e-01  -1.74818708e-02  -2.05271227e-02   1.61744189e-02\n",
      "   5.17568121e-01   2.28087036e-01   2.99914046e-02  -1.71843581e-01\n",
      "   3.30972537e-03  -1.68694718e-02   1.08205750e-02  -2.81038497e-01\n",
      "   1.31575388e-01   7.34859248e-02   2.17939105e-01   9.27903845e-02\n",
      "   1.33460489e-01   3.68011797e-02   1.78389024e-02  -2.51282626e-01\n",
      "  -2.21802125e-02   2.79003022e-01   1.89858364e-01   2.90252791e-01\n",
      "   1.69664036e-03   9.76923885e-02   3.78923939e-01   1.16372317e-02\n",
      "   1.14059189e-01   2.40280944e-01  -1.24381593e-01   5.23489223e-02\n",
      "  -4.63128332e-02   1.46949677e-02   5.31045338e-01   6.17250142e-02\n",
      "   4.69307564e-02  -3.99344297e-03   6.73857143e-02  -1.79077310e-01\n",
      "   1.98394352e-02   1.60301089e-01  -7.11064234e-02  -1.65116763e-02\n",
      "   3.10931108e-01  -1.92892440e-01  -1.02904768e-01   4.22532572e-01\n",
      "   1.38906614e-02   6.42235819e-02   9.12202221e-02   6.27988450e-02\n",
      "   3.92468481e-01   3.37120347e-01   5.38342010e-02   4.15566300e-01\n",
      "   8.14297084e-02   7.55268391e-02   6.43690371e-02  -1.73639494e-01\n",
      "  -1.92469905e-01  -1.79263189e-02  -9.97554401e-02   4.02793567e-01\n",
      "  -1.13607995e-01  -1.65919212e-01  -7.57872384e-02  -1.27886200e-01\n",
      "   6.32426648e-02   7.68939222e-02  -3.21874087e-02   1.50390587e-01\n",
      "   2.41894982e-01   9.13699513e-02   8.39159581e-02   7.21985710e-02\n",
      "   1.60940531e-01  -3.63091952e-03  -1.53682439e-01  -1.80677747e-01\n",
      "  -3.47358869e-02   1.49978739e-01   3.89030790e-01]\n",
      "[ 4.63962297]\n"
     ]
    }
   ],
   "source": [
    "l=100000\n",
    "X_train=feat[:2*l/3]\n",
    "X_test=feat[2*l/3:l]\n",
    "y_train=y[:2*l/3]\n",
    "y_test=y[2*l/3:l]\n",
    "theta,residuals,_,_ = numpy.linalg.lstsq(X_train, y_train)\n",
    "print theta\n",
    "print residuals/len(y_train)"
   ]
  },
  {
   "cell_type": "code",
   "execution_count": 35,
   "metadata": {
    "collapsed": false
   },
   "outputs": [
    {
     "name": "stdout",
     "output_type": "stream",
     "text": [
      "[u'awesome', u'excellent', u'amazing', u'best', u'delicious', u'great', u'friendly', u'recommend', u'love', u'fast']\n"
     ]
    }
   ],
   "source": [
    "index=sorted(range(len(theta)), key=lambda x: theta[x])\n",
    "good=[]\n",
    "bad=[]\n",
    "for j in range (1,11):\n",
    "    \n",
    "    good.append(words[index[-j]])\n",
    "    bad.append(words[index[j-1]])\n",
    "    #print prob\n",
    "print freq"
   ]
  },
  {
   "cell_type": "code",
   "execution_count": 31,
   "metadata": {
    "collapsed": false
   },
   "outputs": [
    {
     "name": "stdout",
     "output_type": "stream",
     "text": [
      "33334\n",
      "33334\n",
      "4.68825968541\n"
     ]
    }
   ],
   "source": [
    "p=numpy.inner(theta,X_test)\n",
    "print len(p)\n",
    "print len(y_test)\n",
    "mse=sum((numpy.array(y_test)-numpy.array(p))**2)/len(y_test)\n",
    "print mse"
   ]
  }
 ],
 "metadata": {
  "kernelspec": {
   "display_name": "Python 2",
   "language": "python",
   "name": "python2"
  },
  "language_info": {
   "codemirror_mode": {
    "name": "ipython",
    "version": 2
   },
   "file_extension": ".py",
   "mimetype": "text/x-python",
   "name": "python",
   "nbconvert_exporter": "python",
   "pygments_lexer": "ipython2",
   "version": "2.7.13"
  }
 },
 "nbformat": 4,
 "nbformat_minor": 2
}
