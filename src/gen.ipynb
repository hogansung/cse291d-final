{
 "cells": [
  {
   "cell_type": "code",
   "execution_count": 1,
   "metadata": {
    "collapsed": true
   },
   "outputs": [],
   "source": [
    "%matplotlib inline\n",
    "\n",
    "import numpy as np\n",
    "import pandas as pd\n",
    "import matplotlib\n",
    "import numpy as np\n",
    "import matplotlib.pyplot as plt\n",
    "import os"
   ]
  },
  {
   "cell_type": "code",
   "execution_count": 2,
   "metadata": {
    "collapsed": true
   },
   "outputs": [],
   "source": [
    "# check folder status\n",
    "folderLst = ['mdl', 'tab']\n",
    "for folder in folderLst:\n",
    "    if not os.path.exists('../' + folder):\n",
    "        os.makedirs('../' + folder)"
   ]
  },
  {
   "cell_type": "code",
   "execution_count": 3,
   "metadata": {},
   "outputs": [
    {
     "name": "stdout",
     "output_type": "stream",
     "text": [
      "4153150\n"
     ]
    }
   ],
   "source": [
    "# load data without review; parse date\n",
    "dat = pd.read_csv('../dat/yelp_academic_dataset_review_nr.csv', parse_dates=['date'])\n",
    "print len(dat)"
   ]
  },
  {
   "cell_type": "code",
   "execution_count": 4,
   "metadata": {
    "collapsed": true
   },
   "outputs": [],
   "source": [
    "# load business data\n",
    "meta = pd.read_csv('../dat/yelp_academic_dataset_business.csv')"
   ]
  },
  {
   "cell_type": "code",
   "execution_count": 5,
   "metadata": {},
   "outputs": [
    {
     "name": "stdout",
     "output_type": "stream",
     "text": [
      "144072\n",
      "48485\n"
     ]
    }
   ],
   "source": [
    "# remain only 'Restaurants'\n",
    "print len(dat.business_id.unique())\n",
    "restaurant_id = set([i for i, c in meta.loc[pd.notnull(meta.categories),['business_id', 'categories']].values\n",
    "                    if 'Restaurants' in c])\n",
    "print len(restaurant_id)"
   ]
  },
  {
   "cell_type": "code",
   "execution_count": 6,
   "metadata": {},
   "outputs": [
    {
     "name": "stdout",
     "output_type": "stream",
     "text": [
      "2577298\n"
     ]
    }
   ],
   "source": [
    "dat = dat[dat.business_id.isin(restaurant_id)]\n",
    "print len(dat)"
   ]
  },
  {
   "cell_type": "code",
   "execution_count": 7,
   "metadata": {},
   "outputs": [
    {
     "name": "stdout",
     "output_type": "stream",
     "text": [
      "number of items: 48485\n"
     ]
    }
   ],
   "source": [
    "# filter based on item counts\n",
    "ITEM_THRES = 10\n",
    "\n",
    "item_count = dat.business_id.value_counts()\n",
    "print 'number of items: %d' % len(item_count)\n",
    "\n",
    "dat = dat.set_index('business_id', drop=False)\n",
    "dat['item_count'] = item_count\n",
    "dat = dat.loc[dat['item_count'] >= ITEM_THRES]"
   ]
  },
  {
   "cell_type": "code",
   "execution_count": 8,
   "metadata": {},
   "outputs": [
    {
     "name": "stdout",
     "output_type": "stream",
     "text": [
      "number of users: 707751\n"
     ]
    }
   ],
   "source": [
    "# filter based on user counts\n",
    "USER_THRES = 5\n",
    "\n",
    "user_count = dat.user_id.value_counts()\n",
    "print 'number of users: %d' % len(user_count)\n",
    "\n",
    "dat = dat.set_index('user_id', drop=False)\n",
    "dat['user_count'] = user_count\n",
    "dat = dat.loc[dat['user_count'] >= USER_THRES]"
   ]
  },
  {
   "cell_type": "code",
   "execution_count": 9,
   "metadata": {},
   "outputs": [
    {
     "name": "stdout",
     "output_type": "stream",
     "text": [
      "number of items: 31792\n",
      "number of users: 109160\n"
     ]
    }
   ],
   "source": [
    "# consider unique items and users\n",
    "uni_item = dat.business_id.unique()\n",
    "NI = len(uni_item)\n",
    "uni_user = dat.user_id.unique()\n",
    "NU = len(uni_user)\n",
    "print 'number of items: %d' % NI\n",
    "print 'number of users: %d' % NU"
   ]
  },
  {
   "cell_type": "code",
   "execution_count": 10,
   "metadata": {
    "collapsed": true
   },
   "outputs": [],
   "source": [
    "# write lists of users\n",
    "with open('../tab/userList', 'w') as f:\n",
    "    f.write(str(len(uni_user)) + '\\n')\n",
    "    f.write('\\n'.join(uni_user))\n",
    "\n",
    "# write lists of items\n",
    "with open('../tab/itemList', 'w') as f:\n",
    "    f.write(str(len(uni_item)) + '\\n')\n",
    "    f.write('\\n'.join(uni_item))"
   ]
  },
  {
   "cell_type": "code",
   "execution_count": 11,
   "metadata": {
    "collapsed": true
   },
   "outputs": [],
   "source": [
    "# create mapping for item\n",
    "item_map = dict()\n",
    "for idx, item_id in enumerate(uni_item):\n",
    "    item_map[item_id] = idx\n",
    "    \n",
    "# create mapping for user\n",
    "user_map = dict()\n",
    "for idx, user_id in enumerate(uni_user):\n",
    "    user_map[user_id] = idx"
   ]
  },
  {
   "cell_type": "code",
   "execution_count": 12,
   "metadata": {
    "collapsed": true
   },
   "outputs": [],
   "source": [
    "# create dataset in tuple\n",
    "tn = np.array([(user_map[u], item_map[i], r, t.year, t.month, t.day, t.dayofweek) \\\n",
    "               for u, i, r, t in dat.loc[:,['user_id', 'business_id', 'stars', 'date']].values \\\n",
    "               if t.year <= 2015])\n",
    "tt = np.array([(user_map[u], item_map[i], r, t.year, t.month, t.day, t.dayofweek) \\\n",
    "               for u, i, r, t in dat.loc[:,['user_id', 'business_id', 'stars', 'date']].values \\\n",
    "               if t.year == 2016])"
   ]
  },
  {
   "cell_type": "code",
   "execution_count": 13,
   "metadata": {
    "collapsed": true
   },
   "outputs": [],
   "source": [
    "# write tn as tuple\n",
    "with open('../tab/tnList', 'w') as f:\n",
    "    f.write(str(tn.shape[0]) + '\\n')\n",
    "    f.write('\\n'.join([','.join(map(str,e)) for e in tn]))\n",
    "    \n",
    "# write tn as tuple\n",
    "with open('../tab/ttList', 'w') as f:\n",
    "    f.write(str(tt.shape[0]) + '\\n')\n",
    "    f.write('\\n'.join([','.join(map(str,e)) for e in tt]))"
   ]
  },
  {
   "cell_type": "code",
   "execution_count": 14,
   "metadata": {},
   "outputs": [
    {
     "name": "stdout",
     "output_type": "stream",
     "text": [
      "(1206403, 7)\n",
      "(325761, 7)\n"
     ]
    }
   ],
   "source": [
    "print tn.shape\n",
    "print tt.shape"
   ]
  },
  {
   "cell_type": "code",
   "execution_count": null,
   "metadata": {
    "collapsed": true
   },
   "outputs": [],
   "source": []
  }
 ],
 "metadata": {
  "kernelspec": {
   "display_name": "Python 2",
   "language": "python",
   "name": "python2"
  },
  "language_info": {
   "codemirror_mode": {
    "name": "ipython",
    "version": 2
   },
   "file_extension": ".py",
   "mimetype": "text/x-python",
   "name": "python",
   "nbconvert_exporter": "python",
   "pygments_lexer": "ipython2",
   "version": "2.7.13"
  }
 },
 "nbformat": 4,
 "nbformat_minor": 2
}
