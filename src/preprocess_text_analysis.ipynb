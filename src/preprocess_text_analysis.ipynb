{
 "cells": [
  {
   "cell_type": "code",
   "execution_count": 58,
   "metadata": {
    "collapsed": true
   },
   "outputs": [],
   "source": [
    "import pandas as pd\n",
    "import matplotlib\n",
    "import numpy as np\n",
    "import matplotlib.pyplot as plt\n",
    "import os\n",
    "import json"
   ]
  },
  {
   "cell_type": "code",
   "execution_count": 35,
   "metadata": {
    "collapsed": false
   },
   "outputs": [],
   "source": [
    "# load data without review; parse date\n",
    "dat = pd.read_csv('../dat/yelp_academic_dataset_review.csv', parse_dates=['date'])\n",
    "#print len(dat)"
   ]
  },
  {
   "cell_type": "code",
   "execution_count": 36,
   "metadata": {
    "collapsed": false
   },
   "outputs": [],
   "source": [
    "# load business data\n",
    "meta=[]\n",
    "with open('../dat/yelp_academic_dataset_business.json', 'r') as handle:\n",
    "    for line in handle.readlines():\n",
    "        meta.append(json.loads(line))"
   ]
  },
  {
   "cell_type": "code",
   "execution_count": 37,
   "metadata": {
    "collapsed": false
   },
   "outputs": [
    {
     "name": "stdout",
     "output_type": "stream",
     "text": [
      "144072\n"
     ]
    }
   ],
   "source": [
    "print len(meta)\n",
    "meta=pd.DataFrame(meta)"
   ]
  },
  {
   "cell_type": "code",
   "execution_count": 38,
   "metadata": {
    "collapsed": false
   },
   "outputs": [
    {
     "name": "stdout",
     "output_type": "stream",
     "text": [
      "144072\n",
      "48485\n"
     ]
    }
   ],
   "source": [
    "# remain only 'Restaurants'\n",
    "print len(meta.business_id.unique())\n",
    "restaurant_id = set([i for i, c in meta.loc[pd.notnull(meta.categories),['business_id', 'categories']].values\n",
    "                    if 'Restaurants' in c])\n",
    "print len(restaurant_id)"
   ]
  },
  {
   "cell_type": "code",
   "execution_count": 39,
   "metadata": {
    "collapsed": false
   },
   "outputs": [
    {
     "name": "stdout",
     "output_type": "stream",
     "text": [
      "2577298\n"
     ]
    }
   ],
   "source": [
    "dat = dat[dat.business_id.isin(restaurant_id)]\n",
    "print len(dat)"
   ]
  },
  {
   "cell_type": "code",
   "execution_count": 40,
   "metadata": {
    "collapsed": false
   },
   "outputs": [
    {
     "name": "stdout",
     "output_type": "stream",
     "text": [
      "number of items: 48485\n"
     ]
    }
   ],
   "source": [
    "# filter based on item counts\n",
    "ITEM_THRES = 10\n",
    "\n",
    "item_count = dat.business_id.value_counts()\n",
    "print 'number of items: %d' % len(item_count)\n",
    "\n",
    "dat = dat.set_index('business_id', drop=False)\n",
    "dat['item_count'] = item_count\n",
    "dat = dat.loc[dat['item_count'] >= ITEM_THRES]"
   ]
  },
  {
   "cell_type": "code",
   "execution_count": 41,
   "metadata": {
    "collapsed": false
   },
   "outputs": [
    {
     "name": "stdout",
     "output_type": "stream",
     "text": [
      "number of users: 707751\n"
     ]
    }
   ],
   "source": [
    "# filter based on user counts\n",
    "USER_THRES = 5\n",
    "\n",
    "user_count = dat.user_id.value_counts()\n",
    "print 'number of users: %d' % len(user_count)\n",
    "\n",
    "dat = dat.set_index('user_id', drop=False)\n",
    "dat['user_count'] = user_count\n",
    "dat = dat.loc[dat['user_count'] >= USER_THRES]"
   ]
  },
  {
   "cell_type": "code",
   "execution_count": 42,
   "metadata": {
    "collapsed": false
   },
   "outputs": [
    {
     "name": "stdout",
     "output_type": "stream",
     "text": [
      "number of items: 31792\n",
      "number of users: 109160\n"
     ]
    }
   ],
   "source": [
    "# consider unique items and users\n",
    "uni_item = dat.business_id.unique()\n",
    "NI = len(uni_item)\n",
    "uni_user = dat.user_id.unique()\n",
    "NU = len(uni_user)\n",
    "print 'number of items: %d' % NI\n",
    "print 'number of users: %d' % NU"
   ]
  },
  {
   "cell_type": "code",
   "execution_count": 59,
   "metadata": {
    "collapsed": false
   },
   "outputs": [
    {
     "name": "stdout",
     "output_type": "stream",
     "text": [
      "This place is a area staple! Been around for years and not much has changed - I see this as a good thing! Stable and reliable!\n",
      "\n",
      "My family goes every year for St. Pattys Day corn beef! Very nice place for a bar night dinner, or to catch up with some friends over drinks!\n"
     ]
    }
   ],
   "source": [
    "\n",
    "# write lists of users\n",
    "my_list = dat.text.tolist()\n",
    "print my_list[0]\n",
    "with open('../dat/text', 'w') as f:\n",
    "   json.dump(my_list,f)\n",
    "   f.close()\n",
    "    \n",
    "\n",
    "\n",
    "    "
   ]
  },
  {
   "cell_type": "code",
   "execution_count": 60,
   "metadata": {
    "collapsed": false
   },
   "outputs": [
    {
     "name": "stdout",
     "output_type": "stream",
     "text": [
      "1548682\n"
     ]
    }
   ],
   "source": [
    "my_list=dat.stars.tolist()\n",
    "print len(my_list)\n",
    "with open('../dat/stars', 'w') as f:\n",
    "    json.dump(my_list,f)\n",
    "    f.close()"
   ]
  }
 ],
 "metadata": {
  "kernelspec": {
   "display_name": "Python 2",
   "language": "python",
   "name": "python2"
  },
  "language_info": {
   "codemirror_mode": {
    "name": "ipython",
    "version": 2
   },
   "file_extension": ".py",
   "mimetype": "text/x-python",
   "name": "python",
   "nbconvert_exporter": "python",
   "pygments_lexer": "ipython2",
   "version": "2.7.13"
  }
 },
 "nbformat": 4,
 "nbformat_minor": 2
}
